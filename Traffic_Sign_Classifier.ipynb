{
 "cells": [
  {
   "cell_type": "markdown",
   "metadata": {
    "deletable": true,
    "editable": true
   },
   "source": [
    "# Self-Driving Car Engineer Nanodegree\n",
    "\n",
    "## Deep Learning\n",
    "\n",
    "## Project: Build a Traffic Sign Recognition Classifier\n",
    "\n",
    "In this notebook, a template is provided for you to implement your functionality in stages, which is required to successfully complete this project. If additional code is required that cannot be included in the notebook, be sure that the Python code is successfully imported and included in your submission if necessary. \n",
    "\n",
    "> **Note**: Once you have completed all of the code implementations, you need to finalize your work by exporting the iPython Notebook as an HTML document. Before exporting the notebook to html, all of the code cells need to have been run so that reviewers can see the final implementation and output. You can then export the notebook by using the menu above and navigating to  \\n\",\n",
    "    \"**File -> Download as -> HTML (.html)**. Include the finished document along with this notebook as your submission. \n",
    "\n",
    "In addition to implementing code, there is a writeup to complete. The writeup should be completed in a separate file, which can be either a markdown file or a pdf document. There is a [write up template](https://github.com/udacity/CarND-Traffic-Sign-Classifier-Project/blob/master/writeup_template.md) that can be used to guide the writing process. Completing the code template and writeup template will cover all of the [rubric points](https://review.udacity.com/#!/rubrics/481/view) for this project.\n",
    "\n",
    "The [rubric](https://review.udacity.com/#!/rubrics/481/view) contains \"Stand Out Suggestions\" for enhancing the project beyond the minimum requirements. The stand out suggestions are optional. If you decide to pursue the \"stand out suggestions\", you can include the code in this Ipython notebook and also discuss the results in the writeup file.\n",
    "\n",
    "\n",
    ">**Note:** Code and Markdown cells can be executed using the **Shift + Enter** keyboard shortcut. In addition, Markdown cells can be edited by typically double-clicking the cell to enter edit mode."
   ]
  },
  {
   "cell_type": "markdown",
   "metadata": {
    "deletable": true,
    "editable": true
   },
   "source": [
    "---\n",
    "## Step 0: Load The Data"
   ]
  },
  {
   "cell_type": "code",
   "execution_count": 1,
   "metadata": {
    "collapsed": false,
    "deletable": true,
    "editable": true
   },
   "outputs": [],
   "source": [
    "# Load pickled data\n",
    "import pickle\n",
    "\n",
    "# TODO: Fill this in based on where you saved the training and testing data\n",
    "\n",
    "training_file='traffic-signs-data/train.p'\n",
    "validation_file='traffic-signs-data/valid.p'\n",
    "testing_file='traffic-signs-data/test.p'\n",
    "\n",
    "with open(training_file, mode='rb') as f:\n",
    "    train = pickle.load(f)\n",
    "with open(validation_file, mode='rb') as f:\n",
    "    valid = pickle.load(f)\n",
    "with open(testing_file, mode='rb') as f:\n",
    "    test = pickle.load(f)\n",
    "    \n",
    "X_train, y_train = train['features'], train['labels']\n",
    "X_valid, y_valid = valid['features'], valid['labels']\n",
    "X_test, y_test = test['features'], test['labels']"
   ]
  },
  {
   "cell_type": "markdown",
   "metadata": {
    "deletable": true,
    "editable": true
   },
   "source": [
    "---\n",
    "\n",
    "## Step 1: Dataset Summary & Exploration\n",
    "\n",
    "The pickled data is a dictionary with 4 key/value pairs:\n",
    "\n",
    "- `'features'` is a 4D array containing raw pixel data of the traffic sign images, (num examples, width, height, channels).\n",
    "- `'labels'` is a 1D array containing the label/class id of the traffic sign. The file `signnames.csv` contains id -> name mappings for each id.\n",
    "- `'sizes'` is a list containing tuples, (width, height) representing the original width and height the image.\n",
    "- `'coords'` is a list containing tuples, (x1, y1, x2, y2) representing coordinates of a bounding box around the sign in the image. **THESE COORDINATES ASSUME THE ORIGINAL IMAGE. THE PICKLED DATA CONTAINS RESIZED VERSIONS (32 by 32) OF THESE IMAGES**\n",
    "\n",
    "Complete the basic data summary below. Use python, numpy and/or pandas methods to calculate the data summary rather than hard coding the results. For example, the [pandas shape method](http://pandas.pydata.org/pandas-docs/stable/generated/pandas.DataFrame.shape.html) might be useful for calculating some of the summary results. "
   ]
  },
  {
   "cell_type": "markdown",
   "metadata": {
    "deletable": true,
    "editable": true
   },
   "source": [
    "### Provide a Basic Summary of the Data Set Using Python, Numpy and/or Pandas"
   ]
  },
  {
   "cell_type": "code",
   "execution_count": 2,
   "metadata": {
    "collapsed": false,
    "deletable": true,
    "editable": true
   },
   "outputs": [
    {
     "name": "stdout",
     "output_type": "stream",
     "text": [
      "Number of training examples = 34799\n",
      "Number of testing examples = 12630\n",
      "Image data shape = (32, 32, 3)\n",
      "Number of classes = 43\n"
     ]
    }
   ],
   "source": [
    "### Replace each question mark with the appropriate value. \n",
    "### Use python, pandas or numpy methods rather than hard coding the results\n",
    "import numpy as np\n",
    "import pandas as pd\n",
    "import tensorflow as tf\n",
    "import random\n",
    "#labels_df = pd.DataFrame.from_dict(train['labels'], orient='columns', dtype=None)\n",
    "\n",
    "# TODO: Number of training examples\n",
    "\n",
    "n_train = X_train.shape[0]\n",
    "\n",
    "# TODO: Number of testing examples.\n",
    "n_test = X_test.shape[0]\n",
    "\n",
    "# TODO: What's the shape of an traffic sign image?\n",
    "image_shape = X_train.shape[1:]\n",
    "\n",
    "# TODO: How many unique classes/labels there are in the dataset.\n",
    "n_classes = np.unique(train['labels']).size\n",
    "\n",
    "print(\"Number of training examples =\", n_train)\n",
    "print(\"Number of testing examples =\", n_test)\n",
    "print(\"Image data shape =\", image_shape)\n",
    "print(\"Number of classes =\", n_classes)\n",
    "from tensorflow.contrib.layers import flatten\n",
    "from sklearn.utils import shuffle\n",
    "import cv2\n",
    "from numpy import newaxis\n",
    "\n",
    "\n",
    "\n",
    "\n"
   ]
  },
  {
   "cell_type": "markdown",
   "metadata": {
    "deletable": true,
    "editable": true
   },
   "source": [
    "### Include an exploratory visualization of the dataset"
   ]
  },
  {
   "cell_type": "markdown",
   "metadata": {
    "deletable": true,
    "editable": true
   },
   "source": [
    "Visualize the German Traffic Signs Dataset using the pickled file(s). This is open ended, suggestions include: plotting traffic sign images, plotting the count of each sign, etc.\n",
    "\n",
    "The [Matplotlib](http://matplotlib.org/) [examples](http://matplotlib.org/examples/index.html) and [gallery](http://matplotlib.org/gallery.html) pages are a great resource for doing visualizations in Python.\n",
    "\n",
    "**NOTE:** It's recommended you start with something simple first. If you wish to do more, come back to it after you've completed the rest of the sections."
   ]
  },
  {
   "cell_type": "code",
   "execution_count": 3,
   "metadata": {
    "collapsed": false,
    "deletable": true,
    "editable": true
   },
   "outputs": [
    {
     "name": "stdout",
     "output_type": "stream",
     "text": [
      "[ 180 1980 2010 1260 1770 1650  360 1290 1260 1320 1800 1170 1890 1920  690\n",
      "  540  360  990 1080  180  300  270  330  450  240 1350  540  210  480  240\n",
      "  390  690  210  599  360 1080  330  180 1860  270  300  210  210]\n"
     ]
    },
    {
     "data": {
      "image/png": "[encoded data removed]",
      "text/plain": [
       "<matplotlib.figure.Figure at 0x15404288748>"
      ]
     },
     "metadata": {},
     "output_type": "display_data"
    }
   ],
   "source": [
    "### Data exploration visualization code goes here.\n",
    "### Feel free to use as many code cells as needed.\n",
    "import matplotlib.pyplot as plt\n",
    "# Visualizations will be shown in the notebook.\n",
    "%matplotlib inline\n",
    "fig = plt.figure()\n",
    "hist, bins = np.histogram(y_train, bins=n_classes)\n",
    "print(hist)\n",
    "width = 0.7 * (bins[1] - bins[0])\n",
    "center = (bins[:-1] + bins[1:]) / 2\n",
    "plt.bar(center, hist, align='center', width=width)\n",
    "plt.show()\n",
    "fig.savefig('Test_output/dataset_visual.jpg')"
   ]
  },
  {
   "cell_type": "markdown",
   "metadata": {
    "deletable": true,
    "editable": true
   },
   "source": [
    "----\n",
    "\n",
    "## Step 2: Design and Test a Model Architecture\n",
    "\n",
    "Design and implement a deep learning model that learns to recognize traffic signs. Train and test your model on the [German Traffic Sign Dataset](http://benchmark.ini.rub.de/?section=gtsrb&subsection=dataset).\n",
    "\n",
    "The LeNet-5 implementation shown in the [classroom](https://classroom.udacity.com/nanodegrees/nd013/parts/fbf77062-5703-404e-b60c-95b78b2f3f9e/modules/6df7ae49-c61c-4bb2-a23e-6527e69209ec/lessons/601ae704-1035-4287-8b11-e2c2716217ad/concepts/d4aca031-508f-4e0b-b493-e7b706120f81) at the end of the CNN lesson is a solid starting point. You'll have to change the number of classes and possibly the preprocessing, but aside from that it's plug and play! \n",
    "\n",
    "With the LeNet-5 solution from the lecture, you should expect a validation set accuracy of about 0.89. To meet specifications, the validation set accuracy will need to be at least 0.93. It is possible to get an even higher accuracy, but 0.93 is the minimum for a successful project submission. \n",
    "\n",
    "There are various aspects to consider when thinking about this problem:\n",
    "\n",
    "- Neural network architecture (is the network over or underfitting?)\n",
    "- Play around preprocessing techniques (normalization, rgb to grayscale, etc)\n",
    "- Number of examples per label (some have more than others).\n",
    "- Generate fake data.\n",
    "\n",
    "Here is an example of a [published baseline model on this problem](http://yann.lecun.com/exdb/publis/pdf/sermanet-ijcnn-11.pdf). It's not required to be familiar with the approach used in the paper but, it's good practice to try to read papers like these."
   ]
  },
  {
   "cell_type": "markdown",
   "metadata": {
    "deletable": true,
    "editable": true
   },
   "source": [
    "### Pre-process the Data Set (normalization, grayscale, etc.)"
   ]
  },
  {
   "cell_type": "markdown",
   "metadata": {
    "deletable": true,
    "editable": true
   },
   "source": [
    "Use the code cell (or multiple code cells, if necessary) to implement the first step of your project."
   ]
  },
  {
   "cell_type": "code",
   "execution_count": 4,
   "metadata": {
    "collapsed": false,
    "deletable": true,
    "editable": true,
    "scrolled": true
   },
   "outputs": [
    {
     "name": "stdout",
     "output_type": "stream",
     "text": [
      "Original shape: (34799, 32, 32, 3)\n",
      "New shape: (34799, 32, 32, 1)\n"
     ]
    },
    {
     "data": {
      "image/png": "[encoded data removed]",
      "text/plain": [
       "<matplotlib.figure.Figure at 0x1541567e9e8>"
      ]
     },
     "metadata": {},
     "output_type": "display_data"
    }
   ],
   "source": [
    "### Preprocess the data here. Preprocessing steps could include normalization, converting to grayscale, etc.\n",
    "### Feel free to use as many code cells as needed.\n",
    "def grayscale(img):\n",
    "    img = cv2.cvtColor(img, cv2.COLOR_BGR2GRAY)\n",
    "    return img\n",
    "def normalize(data):\n",
    "    #return (0.1+0.9*(data/255)).astype(np.float32)\n",
    "    return ((data/255)-0.5).astype(np.float32)\n",
    "def preprocess(data):\n",
    "\n",
    "    return np.sum(data/3, axis=3, keepdims=True)\n",
    "\n",
    "testimg = X_train[0]\n",
    "fig_gray = plt.figure(3)\n",
    "plt.imshow(grayscale(testimg))\n",
    "fig_gray.savefig('Test_output/gray_preprocess.jpg')\n",
    "\n",
    "print(\"Original shape:\", X_train.shape)\n",
    "X_train = preprocess(X_train)\n",
    "\n",
    "\n",
    "X_valid = preprocess(X_valid)\n",
    "\n",
    "\n",
    "X_test = preprocess(X_test)\n",
    "\n",
    "\n",
    "X_train = normalize(X_train)\n",
    "print(\"New shape:\", X_train.shape)\n",
    "X_valid = normalize(X_valid)\n",
    "X_test = normalize(X_test) "
   ]
  },
  {
   "cell_type": "code",
   "execution_count": 5,
   "metadata": {
    "collapsed": false,
    "deletable": true,
    "editable": true
   },
   "outputs": [
    {
     "name": "stdout",
     "output_type": "stream",
     "text": [
      "shape: (32, 32, 1)\n"
     ]
    },
    {
     "data": {
      "text/plain": [
       "<matplotlib.text.Text at 0x15415779710>"
      ]
     },
     "execution_count": 5,
     "metadata": {},
     "output_type": "execute_result"
    },
    {
     "data": {
      "image/png": "[encoded data removed]",
      "text/plain": [
       "<matplotlib.figure.Figure at 0x154042906a0>"
      ]
     },
     "metadata": {},
     "output_type": "display_data"
    }
   ],
   "source": [
    "def translate_img(img):\n",
    "    rows,cols,ch = img.shape\n",
    "    M = np.float32([[1,0,random.randint(1,2)],[0,1,random.randint(1,2)]])\n",
    "    dst = cv2.warpAffine(img,M,(cols,rows))\n",
    "    dst = dst[:,:,np.newaxis]\n",
    "    return dst\n",
    "def brightness_img(img):\n",
    "    shifted = img + 1.0   # shift to (0,2) range\n",
    "    img_max_value = max(shifted.flatten())\n",
    "    max_coef = 2.0/img_max_value\n",
    "    min_coef = max_coef - 0.1\n",
    "    coef = np.random.uniform(min_coef, max_coef)\n",
    "    dst = shifted * coef - 1.0\n",
    "    return dst\n",
    "\n",
    "def affine_img(img):\n",
    "    rows,cols,ch = img.shape\n",
    "        # random scaling coefficients\n",
    "    rndx = np.random.rand(3) - 0.5\n",
    "    rndx *= cols * 0.06   # this coefficient determines the degree of warping\n",
    "    rndy = np.random.rand(3) - 0.5\n",
    "    rndy *= rows * 0.06\n",
    "\n",
    "    # 3 starting points for transform, 1/4 way from edges\n",
    "    x1 = cols/4\n",
    "    x2 = 3*cols/4\n",
    "    y1 = rows/4\n",
    "    y2 = 3*rows/4\n",
    "\n",
    "    pts1 = np.float32([[y1,x1],\n",
    "                       [y2,x1],\n",
    "                       [y1,x2]])\n",
    "    pts2 = np.float32([[y1+rndy[0],x1+rndx[0]],\n",
    "                       [y2+rndy[1],x1+rndx[1]],\n",
    "                       [y1+rndy[2],x2+rndx[2]]])\n",
    "   \n",
    "    M = cv2.getAffineTransform(pts1,pts2)\n",
    "    dst = cv2.warpAffine(img,M,(cols,rows))\n",
    "    dst = dst[:,:,np.newaxis]\n",
    "    return dst\n",
    "\n",
    "def rotate_img(img):\n",
    "    rows,cols,ch = img.shape\n",
    "    M = cv2.getRotationMatrix2D((cols/2,rows/2),random.randint(-20,20),1)\n",
    "    dst = cv2.warpAffine(img,M,(cols,rows))\n",
    "    return dst\n",
    "\n",
    "def perspective_img(img):\n",
    "    rows,cols,ch = img.shape\n",
    "    pts1 = np.float32([[random.randint(1,2),random.randint(1,2)],[rows-random.randint(1,2),random.randint(1,2)],[random.randint(1,2),cols-random.randint(1,2)],[rows-random.randint(1,2),cols-random.randint(1,2)]])\n",
    "    pts2 = np.float32([[0,0],[rows,0],[0,cols],[rows,cols]])\n",
    "    M = cv2.getPerspectiveTransform(pts1,pts2)\n",
    "    dst = cv2.warpPerspective(img,M,(rows,cols))\n",
    "    dst = dst[:,:,np.newaxis]\n",
    "    return dst\n",
    "\n",
    "def get_fake_data(img):\n",
    "    img = brightness_img(img)\n",
    "    img = affine_img(img)\n",
    "    img = perspective_img(img)\n",
    "    img = translate_img(img)\n",
    "    #img = rotate_img(img)\n",
    "    #img = cv2.GaussianBlur(img,(3,3),0)\n",
    "    return img\n",
    "\n",
    "testimg = X_train[8888]\n",
    "print(\"shape:\",testimg.shape)\n",
    "\n",
    "testimgresult = get_fake_data(testimg)\n",
    "\n",
    "fig, axs = plt.subplots(1,2, figsize=(10, 3))\n",
    "\n",
    "axs[0].axis('off')\n",
    "axs[0].imshow(testimg.squeeze(), cmap='gray')\n",
    "axs[0].set_title('original')\n",
    "\n",
    "axs[1].axis('off')\n",
    "axs[1].imshow(testimgresult.squeeze(), cmap='gray')\n",
    "axs[1].set_title('processed data')"
   ]
  },
  {
   "cell_type": "code",
   "execution_count": 6,
   "metadata": {
    "collapsed": false,
    "deletable": true,
    "editable": true
   },
   "outputs": [
    {
     "data": {
      "image/png": "[encoded data removed]",
      "text/plain": [
       "<matplotlib.figure.Figure at 0x154155eea58>"
      ]
     },
     "metadata": {},
     "output_type": "display_data"
    }
   ],
   "source": [
    "testimg = X_train[8888]\n",
    "testimgresult = translate_img(testimg)\n",
    "\n",
    "fig, axs = plt.subplots(1,2, figsize=(10, 3))\n",
    "\n",
    "axs[0].axis('off')\n",
    "axs[0].imshow(testimg.squeeze(), cmap='gray')\n",
    "axs[0].set_title('original')\n",
    "\n",
    "axs[1].axis('off')\n",
    "axs[1].imshow(testimgresult.squeeze(), cmap='gray')\n",
    "axs[1].set_title('processed data')\n",
    "\n",
    "fig.savefig('Test_output/fake_img.jpg')"
   ]
  },
  {
   "cell_type": "code",
   "execution_count": 7,
   "metadata": {
    "collapsed": false,
    "deletable": true,
    "editable": true
   },
   "outputs": [
    {
     "data": {
      "text/plain": [
       "<matplotlib.text.Text at 0x154159048d0>"
      ]
     },
     "execution_count": 7,
     "metadata": {},
     "output_type": "execute_result"
    },
    {
     "data": {
      "image/png": "[encoded data removed]",
      "text/plain": [
       "<matplotlib.figure.Figure at 0x1541584b470>"
      ]
     },
     "metadata": {},
     "output_type": "display_data"
    }
   ],
   "source": [
    "testimg = X_train[22222]\n",
    "testimgresult = affine_img(testimg)\n",
    "\n",
    "fig, axs = plt.subplots(1,2, figsize=(10, 3))\n",
    "\n",
    "axs[0].axis('off')\n",
    "axs[0].imshow(testimg.squeeze(), cmap='gray')\n",
    "axs[0].set_title('original')\n",
    "\n",
    "axs[1].axis('off')\n",
    "axs[1].imshow(testimgresult.squeeze(), cmap='gray')\n",
    "axs[1].set_title('processed data')"
   ]
  },
  {
   "cell_type": "code",
   "execution_count": 8,
   "metadata": {
    "collapsed": false,
    "deletable": true,
    "editable": true
   },
   "outputs": [
    {
     "data": {
      "text/plain": [
       "<matplotlib.text.Text at 0x154159b05f8>"
      ]
     },
     "execution_count": 8,
     "metadata": {},
     "output_type": "execute_result"
    },
    {
     "data": {
      "image/png": "[encoded data removed]",
      "text/plain": [
       "<matplotlib.figure.Figure at 0x154158a4470>"
      ]
     },
     "metadata": {},
     "output_type": "display_data"
    }
   ],
   "source": [
    "testimg = X_train[8888]\n",
    "testimgresult = perspective_img(testimg)\n",
    "\n",
    "fig, axs = plt.subplots(1,2, figsize=(10, 3))\n",
    "\n",
    "axs[0].axis('off')\n",
    "axs[0].imshow(testimg.squeeze(), cmap='gray')\n",
    "axs[0].set_title('original')\n",
    "\n",
    "axs[1].axis('off')\n",
    "axs[1].imshow(testimgresult.squeeze(), cmap='gray')\n",
    "axs[1].set_title('processed data')"
   ]
  },
  {
   "cell_type": "markdown",
   "metadata": {
    "deletable": true,
    "editable": true
   },
   "source": [
    "### Model Architecture"
   ]
  },
  {
   "cell_type": "code",
   "execution_count": 9,
   "metadata": {
    "collapsed": false,
    "deletable": true,
    "editable": true
   },
   "outputs": [
    {
     "name": "stdout",
     "output_type": "stream",
     "text": [
      "180\n",
      "1980\n",
      "2010\n",
      "1260\n",
      "1770\n",
      "1650\n",
      "360\n",
      "1290\n",
      "1260\n",
      "1320\n",
      "1800\n",
      "1170\n",
      "1890\n",
      "1920\n",
      "690\n",
      "540\n",
      "360\n",
      "990\n",
      "1080\n",
      "180\n",
      "300\n",
      "270\n",
      "330\n",
      "450\n",
      "240\n",
      "1350\n",
      "540\n",
      "210\n",
      "480\n",
      "240\n",
      "390\n",
      "690\n",
      "210\n",
      "599\n",
      "360\n",
      "1080\n",
      "330\n",
      "180\n",
      "1860\n",
      "270\n",
      "300\n",
      "210\n",
      "210\n",
      "(46480, 32, 32, 1)\n"
     ]
    }
   ],
   "source": [
    "### Define your architecture here.\n",
    "### Feel free to use as many code cells as needed.\n",
    "Average_data_num = 800\n",
    "for tsign in range(n_classes):\n",
    "    n_classes_index = np.where(y_train == tsign)\n",
    "    \n",
    "    n_data = len(n_classes_index[0])\n",
    "    print(n_data)\n",
    "    if n_data <Average_data_num:\n",
    "        for i in range(Average_data_num-n_data):\n",
    "            randomimg_index = n_classes_index[0][i%n_data]\n",
    "            \n",
    "            randomimg = X_train[randomimg_index]\n",
    "            \n",
    "            randomimg = get_fake_data(randomimg)\n",
    "            \n",
    "            X_train = np.concatenate((X_train, [randomimg]), axis=0)\n",
    "            y_train = np.concatenate((y_train, [tsign]), axis=0)\n",
    "            \n",
    "\n",
    "# Normalize\n",
    "\n",
    "X_train, y_train = shuffle(X_train, y_train)\n",
    "\n",
    "X_test, y_test = shuffle(X_test, y_test)\n",
    "\n",
    "print(X_train.shape)\n"
   ]
  },
  {
   "cell_type": "markdown",
   "metadata": {
    "deletable": true,
    "editable": true
   },
   "source": [
    "### Train, Validate and Test the Model"
   ]
  },
  {
   "cell_type": "markdown",
   "metadata": {
    "deletable": true,
    "editable": true
   },
   "source": [
    "A validation set can be used to assess how well the model is performing. A low accuracy on the training and validation\n",
    "sets imply underfitting. A high accuracy on the training set but low accuracy on the validation set implies overfitting."
   ]
  },
  {
   "cell_type": "code",
   "execution_count": 21,
   "metadata": {
    "collapsed": false,
    "deletable": true,
    "editable": true
   },
   "outputs": [
    {
     "name": "stdout",
     "output_type": "stream",
     "text": [
      "Training...\n",
      "\n",
      "EPOCH 1 ...\n",
      "Validation Accuracy = 0.827\n",
      "\n",
      "EPOCH 2 ...\n",
      "Validation Accuracy = 0.886\n",
      "\n",
      "EPOCH 3 ...\n",
      "Validation Accuracy = 0.893\n",
      "\n",
      "EPOCH 4 ...\n",
      "Validation Accuracy = 0.905\n",
      "\n",
      "EPOCH 5 ...\n",
      "Validation Accuracy = 0.908\n",
      "\n",
      "EPOCH 6 ...\n",
      "Validation Accuracy = 0.914\n",
      "\n",
      "EPOCH 7 ...\n",
      "Validation Accuracy = 0.913\n",
      "\n",
      "EPOCH 8 ...\n",
      "Validation Accuracy = 0.923\n",
      "\n",
      "EPOCH 9 ...\n",
      "Validation Accuracy = 0.933\n",
      "\n",
      "EPOCH 10 ...\n",
      "Validation Accuracy = 0.936\n",
      "\n",
      "EPOCH 11 ...\n",
      "Validation Accuracy = 0.927\n",
      "\n",
      "EPOCH 12 ...\n",
      "Validation Accuracy = 0.928\n",
      "\n",
      "EPOCH 13 ...\n",
      "Validation Accuracy = 0.930\n",
      "\n",
      "EPOCH 14 ...\n",
      "Validation Accuracy = 0.943\n",
      "\n",
      "EPOCH 15 ...\n",
      "Validation Accuracy = 0.941\n",
      "\n",
      "EPOCH 16 ...\n",
      "Validation Accuracy = 0.931\n",
      "\n",
      "EPOCH 17 ...\n",
      "Validation Accuracy = 0.930\n",
      "\n",
      "EPOCH 18 ...\n",
      "Validation Accuracy = 0.922\n",
      "\n",
      "EPOCH 19 ...\n",
      "Validation Accuracy = 0.937\n",
      "\n",
      "EPOCH 20 ...\n",
      "Validation Accuracy = 0.932\n",
      "\n",
      "EPOCH 21 ...\n",
      "Validation Accuracy = 0.941\n",
      "\n",
      "EPOCH 22 ...\n",
      "Validation Accuracy = 0.940\n",
      "\n",
      "EPOCH 23 ...\n",
      "Validation Accuracy = 0.941\n",
      "\n",
      "EPOCH 24 ...\n",
      "Validation Accuracy = 0.947\n",
      "\n",
      "EPOCH 25 ...\n",
      "Validation Accuracy = 0.946\n",
      "\n",
      "EPOCH 26 ...\n",
      "Validation Accuracy = 0.952\n",
      "\n",
      "EPOCH 27 ...\n",
      "Validation Accuracy = 0.946\n",
      "\n",
      "EPOCH 28 ...\n",
      "Validation Accuracy = 0.948\n",
      "\n",
      "EPOCH 29 ...\n",
      "Validation Accuracy = 0.939\n",
      "\n",
      "EPOCH 30 ...\n",
      "Validation Accuracy = 0.940\n",
      "\n",
      "EPOCH 31 ...\n",
      "Validation Accuracy = 0.941\n",
      "\n",
      "EPOCH 32 ...\n",
      "Validation Accuracy = 0.941\n",
      "\n",
      "EPOCH 33 ...\n",
      "Validation Accuracy = 0.951\n",
      "\n",
      "EPOCH 34 ...\n",
      "Validation Accuracy = 0.949\n",
      "\n",
      "EPOCH 35 ...\n",
      "Validation Accuracy = 0.944\n",
      "\n",
      "EPOCH 36 ...\n",
      "Validation Accuracy = 0.955\n",
      "\n",
      "EPOCH 37 ...\n",
      "Validation Accuracy = 0.950\n",
      "\n",
      "EPOCH 38 ...\n",
      "Validation Accuracy = 0.957\n",
      "\n",
      "EPOCH 39 ...\n",
      "Validation Accuracy = 0.949\n",
      "\n",
      "EPOCH 40 ...\n",
      "Validation Accuracy = 0.937\n",
      "\n",
      "EPOCH 41 ...\n",
      "Validation Accuracy = 0.953\n",
      "\n",
      "EPOCH 42 ...\n",
      "Validation Accuracy = 0.935\n",
      "\n",
      "EPOCH 43 ...\n",
      "Validation Accuracy = 0.951\n",
      "\n",
      "EPOCH 44 ...\n",
      "Validation Accuracy = 0.951\n",
      "\n",
      "EPOCH 45 ...\n",
      "Validation Accuracy = 0.952\n",
      "\n",
      "EPOCH 46 ...\n",
      "Validation Accuracy = 0.946\n",
      "\n",
      "EPOCH 47 ...\n",
      "Validation Accuracy = 0.951\n",
      "\n",
      "EPOCH 48 ...\n",
      "Validation Accuracy = 0.956\n",
      "\n",
      "EPOCH 49 ...\n",
      "Validation Accuracy = 0.952\n",
      "\n",
      "EPOCH 50 ...\n",
      "Validation Accuracy = 0.960\n",
      "\n",
      "EPOCH 51 ...\n",
      "Validation Accuracy = 0.956\n",
      "\n",
      "EPOCH 52 ...\n",
      "Validation Accuracy = 0.955\n",
      "\n",
      "EPOCH 53 ...\n",
      "Validation Accuracy = 0.959\n",
      "\n",
      "EPOCH 54 ...\n",
      "Validation Accuracy = 0.946\n",
      "\n",
      "EPOCH 55 ...\n",
      "Validation Accuracy = 0.954\n",
      "\n",
      "EPOCH 56 ...\n",
      "Validation Accuracy = 0.963\n",
      "\n",
      "EPOCH 57 ...\n",
      "Validation Accuracy = 0.959\n",
      "\n",
      "EPOCH 58 ...\n",
      "Validation Accuracy = 0.963\n",
      "\n",
      "EPOCH 59 ...\n",
      "Validation Accuracy = 0.961\n",
      "\n",
      "EPOCH 60 ...\n",
      "Validation Accuracy = 0.961\n",
      "\n",
      "Model saved\n",
      "INFO:tensorflow:Restoring parameters from .\\lenet\n",
      "Test Accuracy = 0.937\n"
     ]
    }
   ],
   "source": [
    "### Train your model here.\n",
    "### Calculate and report the accuracy on the training and validation set.\n",
    "### Once a final model architecture is selected, \n",
    "### the accuracy on the test set should be calculated and reported as well.\n",
    "### Feel free to use as many code cells as needed.\n",
    "EPOCHS = 60\n",
    "BATCH_SIZE = 150\n",
    "rate = 0.0003\n",
    "tf.reset_default_graph()\n",
    "x = tf.placeholder(tf.float32, (None, 32, 32, 1))\n",
    "y = tf.placeholder(tf.int32, (None))\n",
    "keep_prob = tf.placeholder(tf.float32)\n",
    "one_hot_y = tf.one_hot(y, 43)\n",
    "def LeNet(x):    \n",
    "    # Arguments used for tf.truncated_normal, randomly defines variables for the weights and biases for each layer\n",
    "    mu = 0\n",
    "    sigma = 0.1\n",
    "    weights = {'wc1':tf.Variable(tf.truncated_normal(shape=(5,5,1,10),mean = mu, stddev = sigma)),\n",
    "           'wc2':tf.Variable(tf.truncated_normal(shape=(5,5,10,32),mean = mu, stddev = sigma)),\n",
    "           'wc3':tf.Variable(tf.truncated_normal(shape=(5,5,32,800),mean = mu, stddev = sigma)),    \n",
    "          'wfc1':tf.Variable(tf.truncated_normal(shape=(800,400),mean = mu, stddev = sigma)),\n",
    "          'wfc2':tf.Variable(tf.truncated_normal(shape=(1600,800),mean = mu, stddev = sigma)),\n",
    "          'wfc3':tf.Variable(tf.truncated_normal(shape=(800,43),mean = mu, stddev = sigma))}\n",
    "    bias = {'bc1':tf.Variable(tf.zeros([10])),\n",
    "       'bc2':tf.Variable(tf.zeros([32])),\n",
    "       'bc3':tf.Variable(tf.zeros([800])),\n",
    "       'bfc1':tf.Variable(tf.zeros([400])),\n",
    "       'bfc2':tf.Variable(tf.zeros([800])),\n",
    "       'bfc3':tf.Variable(tf.zeros([43]))}    \n",
    "    # TODO: Layer 1: Convolutional. Input = 32x32x1. Output = 28x28x10.\n",
    "    x = tf.nn.conv2d(x,weights['wc1'],strides=[1, 1, 1, 1],padding = 'VALID',name='conv1')\n",
    "    x = tf.nn.bias_add(x,bias['bc1'])\n",
    "    # TODO: Activation.\n",
    "    x = tf.nn.relu(x)\n",
    "    # TODO: Pooling. Input = 28x28x10. Output = 14x14x10.\n",
    "    x = tf.nn.max_pool(x,ksize = [1,2,2,1],strides = [1,2,2,1],padding = 'VALID')\n",
    "    layer1 = x\n",
    "    # TODO: Layer 2: Convolutional. Output = 10x10x32.\n",
    "    x = tf.nn.conv2d(x,weights['wc2'],strides=[1, 1, 1, 1],padding = 'VALID',name='conv2')\n",
    "    x = tf.nn.bias_add(x,bias['bc2'])\n",
    "    # TODO: Activation.\n",
    "    \n",
    "    x = tf.nn.relu(x)\n",
    "    # TODO: Pooling. Input = 10x10x32. Output = 5x5x32.\n",
    "    x = tf.nn.max_pool(x,ksize = [1,2,2,1],strides = [1,2,2,1],padding = 'VALID')\n",
    "    layer2 = x\n",
    "    # TODO: Layer 2.5: Convolutional. Output = 1x1x800.\n",
    "    x = tf.nn.conv2d(x,weights['wc3'],strides=[1, 1, 1, 1],padding = 'VALID',name='conv3')\n",
    "    x = tf.nn.bias_add(x,bias['bc3'])\n",
    "    x = tf.nn.relu(x)\n",
    "    layer3 = x\n",
    "    # TODO: Flatten. Input = 1x1x800. Output = 800.\n",
    "    layer3flatten = flatten(x)\n",
    "    # TODO: Flatten. Input = 5x5x32. Output = 800\n",
    "    layer2flatten = flatten(layer2)   \n",
    "    x = tf.concat([layer3flatten,layer2flatten],1)\n",
    "    x = tf.nn.dropout(x, keep_prob)\n",
    "    x = tf.matmul(x,weights['wfc2'])\n",
    "    x = tf.add(x,bias['bfc2'])\n",
    "    x = tf.nn.relu(x)\n",
    "    x = tf.matmul(x,weights['wfc3'])\n",
    "    logits = tf.add(x,bias['bfc3'])\n",
    "    return logits\n",
    "\n",
    "logits = LeNet(x)\n",
    "cross_entropy = tf.nn.softmax_cross_entropy_with_logits(logits = logits, labels = one_hot_y)\n",
    "loss_operation = tf.reduce_mean(cross_entropy)\n",
    "optimizer = tf.train.AdamOptimizer(learning_rate = rate)\n",
    "training_operation = optimizer.minimize(loss_operation)\n",
    "correct_prediction = tf.equal(tf.argmax(logits, 1), tf.argmax(one_hot_y, 1))\n",
    "accuracy_operation = tf.reduce_mean(tf.cast(correct_prediction, tf.float32))\n",
    "saver = tf.train.Saver()\n",
    "\n",
    "def evaluate(X_data, y_data):\n",
    "    num_examples = len(X_data)\n",
    "    total_accuracy = 0\n",
    "    sess = tf.get_default_session()\n",
    "    for offset in range(0, num_examples, BATCH_SIZE):\n",
    "        batch_x, batch_y = X_data[offset:offset+BATCH_SIZE], y_data[offset:offset+BATCH_SIZE]\n",
    "        accuracy = sess.run(accuracy_operation, feed_dict={x: batch_x, y: batch_y, keep_prob: 1.0})\n",
    "        total_accuracy += (accuracy * len(batch_x))\n",
    "    return total_accuracy / num_examples\n",
    "\n",
    "\n",
    "\n",
    "with tf.Session() as sess:\n",
    "    sess.run(tf.global_variables_initializer())\n",
    "    num_examples = len(X_train)\n",
    "    \n",
    "    print(\"Training...\")\n",
    "    print()\n",
    "    for i in range(EPOCHS):\n",
    "        X_train, y_train = shuffle(X_train, y_train)\n",
    "        for offset in range(0, num_examples, BATCH_SIZE):\n",
    "           \n",
    "            end = offset + BATCH_SIZE\n",
    "            batch_x, batch_y = X_train[offset:end], y_train[offset:end]\n",
    "            \n",
    "            sess.run(training_operation, feed_dict={x: batch_x, y: batch_y, keep_prob: 0.8})\n",
    "            \n",
    "        \n",
    "        validation_accuracy = evaluate(X_valid, y_valid)\n",
    "        print(\"EPOCH {} ...\".format(i+1))\n",
    "        print(\"Validation Accuracy = {:.3f}\".format(validation_accuracy))\n",
    "        print()\n",
    "        \n",
    "    saver.save(sess, './lenet')\n",
    "    print(\"Model saved\")\n",
    "\n",
    "\n",
    "with tf.Session() as sess:\n",
    "    saver.restore(sess, tf.train.latest_checkpoint('.'))\n",
    "\n",
    "    test_accuracy = evaluate(X_test, y_test)\n",
    "    print(\"Test Accuracy = {:.3f}\".format(test_accuracy))"
   ]
  },
  {
   "cell_type": "markdown",
   "metadata": {
    "deletable": true,
    "editable": true
   },
   "source": [
    "---\n",
    "\n",
    "## Step 3: Test a Model on New Images\n",
    "\n",
    "To give yourself more insight into how your model is working, download at least five pictures of German traffic signs from the web and use your model to predict the traffic sign type.\n",
    "\n",
    "You may find `signnames.csv` useful as it contains mappings from the class id (integer) to the actual sign name."
   ]
  },
  {
   "cell_type": "markdown",
   "metadata": {
    "deletable": true,
    "editable": true
   },
   "source": [
    "### Load and Output the Images"
   ]
  },
  {
   "cell_type": "code",
   "execution_count": 11,
   "metadata": {
    "collapsed": false,
    "deletable": true,
    "editable": true
   },
   "outputs": [
    {
     "name": "stdout",
     "output_type": "stream",
     "text": [
      "(8, 32, 32, 1)\n"
     ]
    },
    {
     "data": {
      "image/png": "[encoded data removed]",
      "text/plain": [
       "<matplotlib.figure.Figure at 0x154156e7550>"
      ]
     },
     "metadata": {},
     "output_type": "display_data"
    }
   ],
   "source": [
    "### Load the images and plot them here.\n",
    "### Feel free to use as many code cells as needed.\n",
    "import glob\n",
    "import matplotlib.image as mpimg\n",
    "\n",
    "fig, axs = plt.subplots(2,4, figsize=(4, 2))\n",
    "fig.subplots_adjust(hspace = .2, wspace=.001)\n",
    "axs = axs.ravel()\n",
    "\n",
    "my_images = []\n",
    "\n",
    "for i, img in enumerate(glob.glob('./Online-testimg/*x.png')):\n",
    "    image = cv2.imread(img)\n",
    "    axs[i].axis('off')\n",
    "    axs[i].imshow(cv2.cvtColor(image, cv2.COLOR_BGR2RGB))\n",
    "    my_images.append(image)\n",
    "\n",
    "my_images = np.asarray(my_images)\n",
    "\n",
    "my_images_gry = preprocess(my_images)\n",
    "\n",
    "my_images_normalized = normalize(my_images_gry)\n",
    "\n",
    "print(my_images_normalized.shape)"
   ]
  },
  {
   "cell_type": "markdown",
   "metadata": {
    "deletable": true,
    "editable": true
   },
   "source": [
    "### Predict the Sign Type for Each Image"
   ]
  },
  {
   "cell_type": "code",
   "execution_count": 24,
   "metadata": {
    "collapsed": true,
    "deletable": true,
    "editable": true
   },
   "outputs": [],
   "source": [
    "### Run the predictions here and use the model to output the prediction for each image.\n",
    "### Make sure to pre-process the images with the same pre-processing pipeline used earlier.\n",
    "### Feel free to use as many code cells as needed.\n",
    "my_labels = [3,11,1,12,38,34,18,25]\n",
    "\n"
   ]
  },
  {
   "cell_type": "markdown",
   "metadata": {
    "deletable": true,
    "editable": true
   },
   "source": [
    "### Analyze Performance"
   ]
  },
  {
   "cell_type": "code",
   "execution_count": 25,
   "metadata": {
    "collapsed": false,
    "deletable": true,
    "editable": true
   },
   "outputs": [
    {
     "name": "stdout",
     "output_type": "stream",
     "text": [
      "INFO:tensorflow:Restoring parameters from .\\lenet\n",
      "Test Accuracy = 1.000\n"
     ]
    }
   ],
   "source": [
    "### Calculate the accuracy for these 5 new images. \n",
    "### For example, if the model predicted 1 out of 5 signs correctly, it's 20% accurate on these new images.\n",
    "with tf.Session() as sess:\n",
    "    saver.restore(sess, tf.train.latest_checkpoint('.'))\n",
    "\n",
    "    my_accuracy = evaluate(my_images_normalized, my_labels)\n",
    "    print(\"Test Accuracy = {:.3f}\".format(my_accuracy))"
   ]
  },
  {
   "cell_type": "code",
   "execution_count": 28,
   "metadata": {
    "collapsed": false
   },
   "outputs": [
    {
     "name": "stdout",
     "output_type": "stream",
     "text": [
      "INFO:tensorflow:Restoring parameters from .\\lenet\n",
      "Test Accuracy = 1.000\n"
     ]
    }
   ],
   "source": [
    "train_test = X_train[0:1000] \n",
    "label_test = y_train[0:1000]\n",
    "with tf.Session() as sess:\n",
    "    saver.restore(sess, tf.train.latest_checkpoint('.'))\n",
    "\n",
    "    my_accuracy = evaluate(train_test, label_test)\n",
    "    print(\"Test Accuracy = {:.3f}\".format(my_accuracy))"
   ]
  },
  {
   "cell_type": "markdown",
   "metadata": {
    "deletable": true,
    "editable": true
   },
   "source": [
    "### Output Top 5 Softmax Probabilities For Each Image Found on the Web"
   ]
  },
  {
   "cell_type": "markdown",
   "metadata": {
    "deletable": true,
    "editable": true
   },
   "source": [
    "For each of the new images, print out the model's softmax probabilities to show the **certainty** of the model's predictions (limit the output to the top 5 probabilities for each image). [`tf.nn.top_k`](https://www.tensorflow.org/versions/r0.12/api_docs/python/nn.html#top_k) could prove helpful here. \n",
    "\n",
    "The example below demonstrates how tf.nn.top_k can be used to find the top k predictions for each image.\n",
    "\n",
    "`tf.nn.top_k` will return the values and indices (class ids) of the top k predictions. So if k=3, for each sign, it'll return the 3 largest probabilities (out of a possible 43) and the correspoding class ids.\n",
    "\n",
    "Take this numpy array as an example. The values in the array represent predictions. The array contains softmax probabilities for five candidate images with six possible classes. `tk.nn.top_k` is used to choose the three classes with the highest probability:\n",
    "\n",
    "```\n",
    "# (5, 6) array\n",
    "a = np.array([[ 0.24879643,  0.07032244,  0.12641572,  0.34763842,  0.07893497,\n",
    "         0.12789202],\n",
    "       [ 0.28086119,  0.27569815,  0.08594638,  0.0178669 ,  0.18063401,\n",
    "         0.15899337],\n",
    "       [ 0.26076848,  0.23664738,  0.08020603,  0.07001922,  0.1134371 ,\n",
    "         0.23892179],\n",
    "       [ 0.11943333,  0.29198961,  0.02605103,  0.26234032,  0.1351348 ,\n",
    "         0.16505091],\n",
    "       [ 0.09561176,  0.34396535,  0.0643941 ,  0.16240774,  0.24206137,\n",
    "         0.09155967]])\n",
    "```\n",
    "\n",
    "Running it through `sess.run(tf.nn.top_k(tf.constant(a), k=3))` produces:\n",
    "\n",
    "```\n",
    "TopKV2(values=array([[ 0.34763842,  0.24879643,  0.12789202],\n",
    "       [ 0.28086119,  0.27569815,  0.18063401],\n",
    "       [ 0.26076848,  0.23892179,  0.23664738],\n",
    "       [ 0.29198961,  0.26234032,  0.16505091],\n",
    "       [ 0.34396535,  0.24206137,  0.16240774]]), indices=array([[3, 0, 5],\n",
    "       [0, 1, 4],\n",
    "       [0, 5, 1],\n",
    "       [1, 3, 5],\n",
    "       [1, 4, 3]], dtype=int32))\n",
    "```\n",
    "\n",
    "Looking just at the first row we get `[ 0.34763842,  0.24879643,  0.12789202]`, you can confirm these are the 3 largest probabilities in `a`. You'll also notice `[3, 0, 5]` are the corresponding indices."
   ]
  },
  {
   "cell_type": "code",
   "execution_count": 26,
   "metadata": {
    "collapsed": false,
    "deletable": true,
    "editable": true
   },
   "outputs": [
    {
     "name": "stdout",
     "output_type": "stream",
     "text": [
      "<class 'numpy.ndarray'>\n",
      "<class 'numpy.ndarray'>\n",
      "(8, 32, 32, 1)\n",
      "INFO:tensorflow:Restoring parameters from ./lenet\n",
      "Image: 0, Label: 3 ,top guess: 3 (100%) ,2nd guess: 31 (0%) ,3rd guess: 23 (0%)\n",
      "Image: 1, Label: 11 ,top guess: 11 (100%) ,2nd guess: 30 (0%) ,3rd guess: 21 (0%)\n",
      "Image: 2, Label: 1 ,top guess: 1 (100%) ,2nd guess: 2 (0%) ,3rd guess: 28 (0%)\n",
      "Image: 3, Label: 12 ,top guess: 12 (100%) ,2nd guess: 40 (0%) ,3rd guess: 32 (0%)\n",
      "Image: 4, Label: 38 ,top guess: 38 (100%) ,2nd guess: 0 (0%) ,3rd guess: 1 (0%)\n",
      "Image: 5, Label: 34 ,top guess: 34 (100%) ,2nd guess: 38 (0%) ,3rd guess: 3 (0%)\n",
      "Image: 6, Label: 18 ,top guess: 18 (100%) ,2nd guess: 26 (0%) ,3rd guess: 22 (0%)\n",
      "Image: 7, Label: 25 ,top guess: 25 (94%) ,2nd guess: 31 (6%) ,3rd guess: 37 (0%)\n"
     ]
    }
   ],
   "source": [
    "### Print out the top five softmax probabilities for the predictions on the German traffic sign images found on the web. \n",
    "### Feel free to use as many code cells as needed.\n",
    "softmax_logits = tf.nn.softmax(logits)\n",
    "top_k = tf.nn.top_k(softmax_logits, k=3)\n",
    "print(type(my_images_normalized))\n",
    "print(type(X_train))\n",
    "print(my_images_normalized.shape)\n",
    "with tf.Session() as sess:\n",
    "    sess.run(tf.global_variables_initializer())\n",
    "    saver = tf.train.import_meta_graph('./lenet.meta')\n",
    "    saver.restore(sess, \"./lenet\")\n",
    "    my_softmax_logits = sess.run(softmax_logits, feed_dict={x: my_images_normalized, keep_prob: 1.0})\n",
    "    my_top_k = sess.run(top_k, feed_dict={x: my_images_normalized, keep_prob: 1.0})\n",
    "\n",
    "\n",
    "\n",
    "    for i, image in enumerate(my_images):\n",
    "        \n",
    "        print('Image: {}, Label: {}'.format(i,my_labels[i]),',top guess: {} ({:.0f}%)'.format(my_top_k[1][i][0], 100*my_top_k[0][i][0]),',2nd guess: {} ({:.0f}%)'.format(my_top_k[1][i][1], 100*my_top_k[0][i][1]),',3rd guess: {} ({:.0f}%)'.format(my_top_k[1][i][2], 100*my_top_k[0][i][2]))\n",
    "       \n",
    "        #print(my_top_k[1][i][0],my_top_k[1][i][1],my_top_k[1][i][2])"
   ]
  },
  {
   "cell_type": "markdown",
   "metadata": {
    "deletable": true,
    "editable": true
   },
   "source": [
    "---\n",
    "\n",
    "## Step 4: Visualize the Neural Network's State with Test Images\n",
    "\n",
    " This Section is not required to complete but acts as an additional excersise for understaning the output of a neural network's weights. While neural networks can be a great learning device they are often referred to as a black box. We can understand what the weights of a neural network look like better by plotting their feature maps. After successfully training your neural network you can see what it's feature maps look like by plotting the output of the network's weight layers in response to a test stimuli image. From these plotted feature maps, it's possible to see what characteristics of an image the network finds interesting. For a sign, maybe the inner network feature maps react with high activation to the sign's boundary outline or to the contrast in the sign's painted symbol.\n",
    "\n",
    " Provided for you below is the function code that allows you to get the visualization output of any tensorflow weight layer you want. The inputs to the function should be a stimuli image, one used during training or a new one you provided, and then the tensorflow variable name that represents the layer's state during the training process, for instance if you wanted to see what the [LeNet lab's](https://classroom.udacity.com/nanodegrees/nd013/parts/fbf77062-5703-404e-b60c-95b78b2f3f9e/modules/6df7ae49-c61c-4bb2-a23e-6527e69209ec/lessons/601ae704-1035-4287-8b11-e2c2716217ad/concepts/d4aca031-508f-4e0b-b493-e7b706120f81) feature maps looked like for it's second convolutional layer you could enter conv2 as the tf_activation variable.\n",
    "\n",
    "For an example of what feature map outputs look like, check out NVIDIA's results in their paper [End-to-End Deep Learning for Self-Driving Cars](https://devblogs.nvidia.com/parallelforall/deep-learning-self-driving-cars/) in the section Visualization of internal CNN State. NVIDIA was able to show that their network's inner weights had high activations to road boundary lines by comparing feature maps from an image with a clear path to one without. Try experimenting with a similar test to show that your trained network's weights are looking for interesting features, whether it's looking at differences in feature maps from images with or without a sign, or even what feature maps look like in a trained network vs a completely untrained one on the same sign image.\n",
    "\n",
    "<figure>\n",
    " <img src=\"visualize_cnn.png\" width=\"380\" alt=\"Combined Image\" />\n",
    " <figcaption>\n",
    " <p></p> \n",
    " <p style=\"text-align: center;\"> Your output should look something like this (above)</p> \n",
    " </figcaption>\n",
    "</figure>\n",
    " <p></p> \n"
   ]
  },
  {
   "cell_type": "code",
   "execution_count": 29,
   "metadata": {
    "collapsed": false,
    "deletable": true,
    "editable": true
   },
   "outputs": [
    {
     "name": "stdout",
     "output_type": "stream",
     "text": [
      "INFO:tensorflow:Restoring parameters from ./lenet\n"
     ]
    },
    {
     "data": {
      "image/png": "[encoded data removed]",
      "text/plain": [
       "<matplotlib.figure.Figure at 0x154158516a0>"
      ]
     },
     "metadata": {},
     "output_type": "display_data"
    },
    {
     "data": {
      "image/png": "[encoded data removed]",
      "text/plain": [
       "<matplotlib.figure.Figure at 0x1547e5517f0>"
      ]
     },
     "metadata": {},
     "output_type": "display_data"
    }
   ],
   "source": [
    "### Visualize your network's feature maps here.\n",
    "### Feel free to use as many code cells as needed.\n",
    "import time\n",
    "# image_input: the test image being fed into the network to produce the feature maps\n",
    "# tf_activation: should be a tf variable name used during your training procedure that represents the calculated state of a specific weight layer\n",
    "# activation_min/max: can be used to view the activation contrast in more detail, by default matplot sets min and max to the actual min and max values of the output\n",
    "# plt_num: used to plot out multiple different weight feature map sets on the same block, just extend the plt number for each new feature map entry\n",
    "\n",
    "def outputFeatureMap(image_input, tf_activation, activation_min=-1, activation_max=-1 ,plt_num=1):\n",
    "    # Here make sure to preprocess your image_input in a way your network expects\n",
    "    # with size, normalization, ect if needed\n",
    "    # image_input =\n",
    "    # Note: x should be the same name as your network's tensorflow data placeholder variable\n",
    "    # If you get an error tf_activation is not defined it maybe having trouble accessing the variable from inside a function\n",
    "    activation = tf_activation.eval(session=sess,feed_dict={x : image_input})\n",
    "    featuremaps = activation.shape[3]\n",
    "    plt.figure(plt_num, figsize=(15,15))\n",
    "    for featuremap in range(featuremaps):\n",
    "        plt.subplot(6,8, featuremap+1) # sets the number of feature maps to show on each row and column\n",
    "        plt.title('FeatureMap ' + str(featuremap)) # displays the feature map number\n",
    "        if activation_min != -1 & activation_max != -1:\n",
    "            plt.imshow(activation[0,:,:, featuremap], interpolation=\"nearest\", vmin =activation_min, vmax=activation_max, cmap=\"gray\")\n",
    "        elif activation_max != -1:\n",
    "            plt.imshow(activation[0,:,:, featuremap], interpolation=\"nearest\", vmax=activation_max, cmap=\"gray\")\n",
    "        elif activation_min !=-1:\n",
    "            plt.imshow(activation[0,:,:, featuremap], interpolation=\"nearest\", vmin=activation_min, cmap=\"gray\")\n",
    "        else:\n",
    "            plt.imshow(activation[0,:,:, featuremap], interpolation=\"nearest\", cmap=\"gray\")\n",
    "\n",
    "with tf.Session() as sess:\n",
    "    saver.restore(sess, \"./lenet\")\n",
    "    for img in my_images_normalized:\n",
    "             \n",
    "        img = img.reshape(1, 32,32,1)\n",
    "        conv_layer_1_visual = sess.graph.get_tensor_by_name('conv1:0')\n",
    "        outputFeatureMap(img,conv_layer_1_visual)\n",
    "        conv_layer_2_visual = sess.graph.get_tensor_by_name('conv2:0')\n",
    "        outputFeatureMap(img,conv_layer_2_visual,plt_num=2)  \n",
    "        #conv_layer_3_visual = sess.graph.get_tensor_by_name('conv3:0')\n",
    "        #outputFeatureMap(img,conv_layer_3_visual,plt_num=3)\n",
    "    #outputFeatureMap(my_images_normalized,weights['wc2'])"
   ]
  },
  {
   "cell_type": "markdown",
   "metadata": {
    "deletable": true,
    "editable": true
   },
   "source": [
    "### Question 9\n",
    "\n",
    "Discuss how you used the visual output of your trained network's feature maps to show that it had learned to look for interesting characteristics in traffic sign images\n"
   ]
  },
  {
   "cell_type": "markdown",
   "metadata": {
    "deletable": true,
    "editable": true
   },
   "source": [
    "**Answer:**"
   ]
  },
  {
   "cell_type": "markdown",
   "metadata": {
    "deletable": true,
    "editable": true
   },
   "source": [
    "> **Note**: Once you have completed all of the code implementations and successfully answered each question above, you may finalize your work by exporting the iPython Notebook as an HTML document. You can do this by using the menu above and navigating to  \\n\",\n",
    "    \"**File -> Download as -> HTML (.html)**. Include the finished document along with this notebook as your submission."
   ]
  },
  {
   "cell_type": "markdown",
   "metadata": {
    "deletable": true,
    "editable": true
   },
   "source": [
    "### Project Writeup\n",
    "\n",
    "Once you have completed the code implementation, document your results in a project writeup using this [template](https://github.com/udacity/CarND-Traffic-Sign-Classifier-Project/blob/master/writeup_template.md) as a guide. The writeup can be in a markdown or pdf file. "
   ]
  }
 ],
 "metadata": {
  "anaconda-cloud": {},
  "kernelspec": {
   "display_name": "Python 3",
   "language": "python",
   "name": "python3"
  },
  "language_info": {
   "codemirror_mode": {
    "name": "ipython",
    "version": 3
   },
   "file_extension": ".py",
   "mimetype": "text/x-python",
   "name": "python",
   "nbconvert_exporter": "python",
   "pygments_lexer": "ipython3",
   "version": "3.5.2"
  },
  "widgets": {
   "state": {},
   "version": "1.1.2"
  }
 },
 "nbformat": 4,
 "nbformat_minor": 1
}
